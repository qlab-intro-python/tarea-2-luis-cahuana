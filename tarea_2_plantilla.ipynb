{
 "cells": [
  {
   "cell_type": "markdown",
   "metadata": {},
   "source": [
    "# **Tarea Nº 2**"
   ]
  },
  {
   "cell_type": "markdown",
   "metadata": {},
   "source": [
    "Curso:          Fundamentos de Programación en Python para Macroeconomía y Finanzas     \n",
    "Profesor:       Victor Fuentes Campos     "
   ]
  },
  {
   "cell_type": "markdown",
   "metadata": {},
   "source": [
    "- Fecha y hora de entrega: Sábado 6 de enero, 11:59pm\n",
    "- Agregue los nombres de las personas con las que discutió esta tarea: ____ Armando Paredes ______\n",
    "- Envíe su tarea haciendo el `push` de su código a su repo en GitHub Classroom: "
   ]
  },
  {
   "cell_type": "markdown",
   "metadata": {},
   "source": [
    "## Filtering rows"
   ]
  },
  {
   "cell_type": "markdown",
   "metadata": {},
   "source": [
    "1. Import the `flights.csv` dataset. Find all flights that:\n",
    "\n",
    "    a. Had an arrival delay of three or more hours\n",
    "\n",
    "    b. Flew to Houston (IAH or HOU)\n",
    "\n",
    "    c. Were operated by United, American, or Southwest\n",
    "\n",
    "    d. Departed in spring (March, April, and June)\n",
    "\n",
    "    e. Arrived more than two hours late, but didn’t leave late\n",
    "    \n",
    "    f. Were delayed by at least an hour, but made up over 30 minutes in flight 7. Departed between midnight and 5am (inclusive)"
   ]
  },
  {
   "cell_type": "code",
   "execution_count": 1,
   "metadata": {},
   "outputs": [],
   "source": [
    "# Solution\n",
    "import pandas as pd\n",
    "\n",
    "# 1. Import the flights.csv dataset\n",
    "flights = pd.read_csv(\"flights.csv\")\n",
    "\n",
    "# a. Find flights with arrival delay of 3 or more hours\n",
    "delayed_flights = flights[flights[\"arr_delay\"] >= 3]\n",
    "\n",
    "# b. Find flights that flew to Houston (IAH or HOU)\n",
    "houston_flights = flights[flights[\"dest\"].isin([\"IAH\", \"HOU\"])]\n",
    "\n",
    "# c. Find flights operated by United, American, or Southwest\n",
    "airlines = [\"UA\", \"AA\", \"WN\"]\n",
    "specific_airlines_flights = flights[flights[\"carrier\"].isin(airlines)]\n",
    "\n",
    "# d. Find flights that departed in spring (March, April, and June)\n",
    "spring_months = [\"Mar\", \"Apr\", \"Jun\"]\n",
    "spring_flights = flights[flights[\"month\"].isin(spring_months)]\n",
    "\n",
    "# e. Find flights that arrived more than 2 hours late, but didn't leave late\n",
    "late_arrival_not_departure = flights[(flights[\"arr_delay\"] > 120) & (flights[\"dep_delay\"] <= 0)]\n",
    "\n",
    "# f. Find flights delayed by at least an hour, but made up over 30 minutes in flight\n",
    "delayed_made_up_time = flights[(flights[\"dep_delay\"] >= 60) & (flights[\"arr_delay\"] < flights[\"dep_delay\"] - 30)]\n",
    "\n",
    "# g. Find flights that departed between midnight and 5am (inclusive)\n",
    "midnight_to_5am_flights = flights[(flights[\"dep_time\"] >= 0) & (flights[\"dep_time\"] <= 500)]\n",
    "\n"
   ]
  },
  {
   "cell_type": "code",
   "execution_count": 2,
   "metadata": {},
   "outputs": [
    {
     "name": "stdout",
     "output_type": "stream",
     "text": [
      "        Unnamed: 0  year  month  day  dep_time  sched_dep_time  dep_delay  \\\n",
      "0                1  2013      1    1     517.0             515        2.0   \n",
      "1                2  2013      1    1     533.0             529        4.0   \n",
      "2                3  2013      1    1     542.0             540        2.0   \n",
      "5                6  2013      1    1     554.0             558       -4.0   \n",
      "6                7  2013      1    1     555.0             600       -5.0   \n",
      "...            ...   ...    ...  ...       ...             ...        ...   \n",
      "336758      336759  2013      9   30    2203.0            2205       -2.0   \n",
      "336759      336760  2013      9   30    2207.0            2140       27.0   \n",
      "336760      336761  2013      9   30    2211.0            2059       72.0   \n",
      "336762      336763  2013      9   30    2233.0            2113       80.0   \n",
      "336763      336764  2013      9   30    2235.0            2001      154.0   \n",
      "\n",
      "        arr_time  sched_arr_time  arr_delay carrier  flight tailnum origin  \\\n",
      "0          830.0             819       11.0      UA    1545  N14228    EWR   \n",
      "1          850.0             830       20.0      UA    1714  N24211    LGA   \n",
      "2          923.0             850       33.0      AA    1141  N619AA    JFK   \n",
      "5          740.0             728       12.0      UA    1696  N39463    EWR   \n",
      "6          913.0             854       19.0      B6     507  N516JB    EWR   \n",
      "...          ...             ...        ...     ...     ...     ...    ...   \n",
      "336758    2339.0            2331        8.0      EV    5311  N722EV    LGA   \n",
      "336759    2257.0            2250        7.0      MQ    3660  N532MQ    LGA   \n",
      "336760    2339.0            2242       57.0      EV    4672  N12145    EWR   \n",
      "336762     112.0              30       42.0      UA     471  N578UA    EWR   \n",
      "336763      59.0            2249      130.0      B6    1083  N804JB    JFK   \n",
      "\n",
      "       dest  air_time  distance  hour  minute            time_hour  \n",
      "0       IAH     227.0      1400     5      15  2013-01-01 05:00:00  \n",
      "1       IAH     227.0      1416     5      29  2013-01-01 05:00:00  \n",
      "2       MIA     160.0      1089     5      40  2013-01-01 05:00:00  \n",
      "5       ORD     150.0       719     5      58  2013-01-01 05:00:00  \n",
      "6       FLL     158.0      1065     6       0  2013-01-01 06:00:00  \n",
      "...     ...       ...       ...   ...     ...                  ...  \n",
      "336758  BGR      61.0       378    22       5  2013-09-30 22:00:00  \n",
      "336759  BNA      97.0       764    21      40  2013-09-30 21:00:00  \n",
      "336760  STL     120.0       872    20      59  2013-09-30 20:00:00  \n",
      "336762  SFO     318.0      2565    21      13  2013-09-30 21:00:00  \n",
      "336763  MCO     123.0       944    20       1  2013-09-30 20:00:00  \n",
      "\n",
      "[123096 rows x 20 columns]\n"
     ]
    }
   ],
   "source": [
    "print(delayed_flights)"
   ]
  },
  {
   "cell_type": "code",
   "execution_count": 3,
   "metadata": {},
   "outputs": [
    {
     "name": "stdout",
     "output_type": "stream",
     "text": [
      "        Unnamed: 0  year  month  day  dep_time  sched_dep_time  dep_delay  \\\n",
      "0                1  2013      1    1     517.0             515        2.0   \n",
      "1                2  2013      1    1     533.0             529        4.0   \n",
      "32              33  2013      1    1     623.0             627       -4.0   \n",
      "81              82  2013      1    1     728.0             732       -4.0   \n",
      "89              90  2013      1    1     739.0             739        0.0   \n",
      "...            ...   ...    ...  ...       ...             ...        ...   \n",
      "336524      336525  2013      9   30    1729.0            1720        9.0   \n",
      "336527      336528  2013      9   30    1735.0            1715       20.0   \n",
      "336618      336619  2013      9   30    1859.0            1859        0.0   \n",
      "336694      336695  2013      9   30    2015.0            2015        0.0   \n",
      "336737      336738  2013      9   30    2105.0            2106       -1.0   \n",
      "\n",
      "        arr_time  sched_arr_time  arr_delay carrier  flight tailnum origin  \\\n",
      "0          830.0             819       11.0      UA    1545  N14228    EWR   \n",
      "1          850.0             830       20.0      UA    1714  N24211    LGA   \n",
      "32         933.0             932        1.0      UA     496  N459UA    LGA   \n",
      "81        1041.0            1038        3.0      UA     473  N488UA    LGA   \n",
      "89        1104.0            1038       26.0      UA    1479  N37408    EWR   \n",
      "...          ...             ...        ...     ...     ...     ...    ...   \n",
      "336524    2001.0            2010       -9.0      UA     652  N455UA    EWR   \n",
      "336527    2010.0            2005        5.0      WN    2067  N296WN    EWR   \n",
      "336618    2134.0            2159      -25.0      UA    1128  N14731    LGA   \n",
      "336694    2244.0            2307      -23.0      UA    1545  N17730    EWR   \n",
      "336737    2329.0            2354      -25.0      UA     475  N477UA    EWR   \n",
      "\n",
      "       dest  air_time  distance  hour  minute            time_hour  \n",
      "0       IAH     227.0      1400     5      15  2013-01-01 05:00:00  \n",
      "1       IAH     227.0      1416     5      29  2013-01-01 05:00:00  \n",
      "32      IAH     229.0      1416     6      27  2013-01-01 06:00:00  \n",
      "81      IAH     238.0      1416     7      32  2013-01-01 07:00:00  \n",
      "89      IAH     249.0      1400     7      39  2013-01-01 07:00:00  \n",
      "...     ...       ...       ...   ...     ...                  ...  \n",
      "336524  IAH     173.0      1400    17      20  2013-09-30 17:00:00  \n",
      "336527  HOU     188.0      1411    17      15  2013-09-30 17:00:00  \n",
      "336618  IAH     180.0      1416    18      59  2013-09-30 18:00:00  \n",
      "336694  IAH     174.0      1400    20      15  2013-09-30 20:00:00  \n",
      "336737  IAH     175.0      1400    21       6  2013-09-30 21:00:00  \n",
      "\n",
      "[9313 rows x 20 columns]\n"
     ]
    }
   ],
   "source": [
    "print(houston_flights)"
   ]
  },
  {
   "cell_type": "code",
   "execution_count": 4,
   "metadata": {},
   "outputs": [
    {
     "name": "stdout",
     "output_type": "stream",
     "text": [
      "        Unnamed: 0  year  month  day  dep_time  sched_dep_time  dep_delay  \\\n",
      "0                1  2013      1    1     517.0             515        2.0   \n",
      "1                2  2013      1    1     533.0             529        4.0   \n",
      "2                3  2013      1    1     542.0             540        2.0   \n",
      "5                6  2013      1    1     554.0             558       -4.0   \n",
      "9               10  2013      1    1     558.0             600       -2.0   \n",
      "...            ...   ...    ...  ...       ...             ...        ...   \n",
      "336736      336737  2013      9   30    2104.0            2030       34.0   \n",
      "336737      336738  2013      9   30    2105.0            2106       -1.0   \n",
      "336751      336752  2013      9   30    2140.0            2140        0.0   \n",
      "336755      336756  2013      9   30    2149.0            2156       -7.0   \n",
      "336762      336763  2013      9   30    2233.0            2113       80.0   \n",
      "\n",
      "        arr_time  sched_arr_time  arr_delay carrier  flight tailnum origin  \\\n",
      "0          830.0             819       11.0      UA    1545  N14228    EWR   \n",
      "1          850.0             830       20.0      UA    1714  N24211    LGA   \n",
      "2          923.0             850       33.0      AA    1141  N619AA    JFK   \n",
      "5          740.0             728       12.0      UA    1696  N39463    EWR   \n",
      "9          753.0             745        8.0      AA     301  N3ALAA    LGA   \n",
      "...          ...             ...        ...     ...     ...     ...    ...   \n",
      "336736    2205.0            2150       15.0      WN     382  N7741C    LGA   \n",
      "336737    2329.0            2354      -25.0      UA     475  N477UA    EWR   \n",
      "336751      10.0              40      -30.0      AA     185  N335AA    JFK   \n",
      "336755    2245.0            2308      -23.0      UA     523  N813UA    EWR   \n",
      "336762     112.0              30       42.0      UA     471  N578UA    EWR   \n",
      "\n",
      "       dest  air_time  distance  hour  minute            time_hour  \n",
      "0       IAH     227.0      1400     5      15  2013-01-01 05:00:00  \n",
      "1       IAH     227.0      1416     5      29  2013-01-01 05:00:00  \n",
      "2       MIA     160.0      1089     5      40  2013-01-01 05:00:00  \n",
      "5       ORD     150.0       719     5      58  2013-01-01 05:00:00  \n",
      "9       ORD     138.0       733     6       0  2013-01-01 06:00:00  \n",
      "...     ...       ...       ...   ...     ...                  ...  \n",
      "336736  MDW     105.0       725    20      30  2013-09-30 20:00:00  \n",
      "336737  IAH     175.0      1400    21       6  2013-09-30 21:00:00  \n",
      "336751  LAX     298.0      2475    21      40  2013-09-30 21:00:00  \n",
      "336755  BOS      37.0       200    21      56  2013-09-30 21:00:00  \n",
      "336762  SFO     318.0      2565    21      13  2013-09-30 21:00:00  \n",
      "\n",
      "[103669 rows x 20 columns]\n"
     ]
    }
   ],
   "source": [
    "print (specific_airlines_flights)"
   ]
  },
  {
   "cell_type": "code",
   "execution_count": 5,
   "metadata": {},
   "outputs": [
    {
     "name": "stdout",
     "output_type": "stream",
     "text": [
      "Empty DataFrame\n",
      "Columns: [Unnamed: 0, year, month, day, dep_time, sched_dep_time, dep_delay, arr_time, sched_arr_time, arr_delay, carrier, flight, tailnum, origin, dest, air_time, distance, hour, minute, time_hour]\n",
      "Index: []\n"
     ]
    }
   ],
   "source": [
    "print (spring_flights)"
   ]
  },
  {
   "cell_type": "markdown",
   "metadata": {},
   "source": [
    "2. a- How many flights have a missing dep_time? b- What other variables are missing? c- What might these rows represent?"
   ]
  },
  {
   "cell_type": "code",
   "execution_count": 6,
   "metadata": {},
   "outputs": [
    {
     "name": "stdout",
     "output_type": "stream",
     "text": [
      "Number of flights with missing dep_time: 8255\n",
      "Missing values in each column:\n",
      " Unnamed: 0           0\n",
      "year                 0\n",
      "month                0\n",
      "day                  0\n",
      "dep_time          8255\n",
      "sched_dep_time       0\n",
      "dep_delay         8255\n",
      "arr_time          8713\n",
      "sched_arr_time       0\n",
      "arr_delay         9430\n",
      "carrier              0\n",
      "flight               0\n",
      "tailnum           2512\n",
      "origin               0\n",
      "dest                 0\n",
      "air_time          9430\n",
      "distance             0\n",
      "hour                 0\n",
      "minute               0\n",
      "time_hour            0\n",
      "dtype: int64\n",
      "Rows with missing dep_time:\n",
      "         Unnamed: 0  year  month  day  dep_time  sched_dep_time  dep_delay  \\\n",
      "838            839  2013      1    1       NaN            1630        NaN   \n",
      "839            840  2013      1    1       NaN            1935        NaN   \n",
      "840            841  2013      1    1       NaN            1500        NaN   \n",
      "841            842  2013      1    1       NaN             600        NaN   \n",
      "1777          1778  2013      1    2       NaN            1540        NaN   \n",
      "...            ...   ...    ...  ...       ...             ...        ...   \n",
      "336771      336772  2013      9   30       NaN            1455        NaN   \n",
      "336772      336773  2013      9   30       NaN            2200        NaN   \n",
      "336773      336774  2013      9   30       NaN            1210        NaN   \n",
      "336774      336775  2013      9   30       NaN            1159        NaN   \n",
      "336775      336776  2013      9   30       NaN             840        NaN   \n",
      "\n",
      "        arr_time  sched_arr_time  arr_delay carrier  flight tailnum origin  \\\n",
      "838          NaN            1815        NaN      EV    4308  N18120    EWR   \n",
      "839          NaN            2240        NaN      AA     791  N3EHAA    LGA   \n",
      "840          NaN            1825        NaN      AA    1925  N3EVAA    LGA   \n",
      "841          NaN             901        NaN      B6     125  N618JB    JFK   \n",
      "1777         NaN            1747        NaN      EV    4352  N10575    EWR   \n",
      "...          ...             ...        ...     ...     ...     ...    ...   \n",
      "336771       NaN            1634        NaN      9E    3393     NaN    JFK   \n",
      "336772       NaN            2312        NaN      9E    3525     NaN    LGA   \n",
      "336773       NaN            1330        NaN      MQ    3461  N535MQ    LGA   \n",
      "336774       NaN            1344        NaN      MQ    3572  N511MQ    LGA   \n",
      "336775       NaN            1020        NaN      MQ    3531  N839MQ    LGA   \n",
      "\n",
      "       dest  air_time  distance  hour  minute            time_hour  \n",
      "838     RDU       NaN       416    16      30  2013-01-01 16:00:00  \n",
      "839     DFW       NaN      1389    19      35  2013-01-01 19:00:00  \n",
      "840     MIA       NaN      1096    15       0  2013-01-01 15:00:00  \n",
      "841     FLL       NaN      1069     6       0  2013-01-01 06:00:00  \n",
      "1777    CVG       NaN       569    15      40  2013-01-02 15:00:00  \n",
      "...     ...       ...       ...   ...     ...                  ...  \n",
      "336771  DCA       NaN       213    14      55  2013-09-30 14:00:00  \n",
      "336772  SYR       NaN       198    22       0  2013-09-30 22:00:00  \n",
      "336773  BNA       NaN       764    12      10  2013-09-30 12:00:00  \n",
      "336774  CLE       NaN       419    11      59  2013-09-30 11:00:00  \n",
      "336775  RDU       NaN       431     8      40  2013-09-30 08:00:00  \n",
      "\n",
      "[8255 rows x 20 columns]\n"
     ]
    }
   ],
   "source": [
    "# Solution\n",
    "\n",
    "# a- \n",
    "missing_dep_time_count = flights[\"dep_time\"].isnull().sum()\n",
    "print(\"Number of flights with missing dep_time:\", missing_dep_time_count)\n"
   ]
  },
  {
   "cell_type": "code",
   "execution_count": 7,
   "metadata": {},
   "outputs": [
    {
     "name": "stdout",
     "output_type": "stream",
     "text": [
      "Missing values in each column:\n",
      " Unnamed: 0           0\n",
      "year                 0\n",
      "month                0\n",
      "day                  0\n",
      "dep_time          8255\n",
      "sched_dep_time       0\n",
      "dep_delay         8255\n",
      "arr_time          8713\n",
      "sched_arr_time       0\n",
      "arr_delay         9430\n",
      "carrier              0\n",
      "flight               0\n",
      "tailnum           2512\n",
      "origin               0\n",
      "dest                 0\n",
      "air_time          9430\n",
      "distance             0\n",
      "hour                 0\n",
      "minute               0\n",
      "time_hour            0\n",
      "dtype: int64\n"
     ]
    }
   ],
   "source": [
    "# 2. b-\n",
    "missing_values = flights.isnull().sum()\n",
    "print(\"Missing values in each column:\\n\", missing_values)\n",
    "\n"
   ]
  },
  {
   "cell_type": "code",
   "execution_count": 8,
   "metadata": {},
   "outputs": [
    {
     "name": "stdout",
     "output_type": "stream",
     "text": [
      "Rows with missing dep_time:\n",
      "         Unnamed: 0  year  month  day  dep_time  sched_dep_time  dep_delay  \\\n",
      "838            839  2013      1    1       NaN            1630        NaN   \n",
      "839            840  2013      1    1       NaN            1935        NaN   \n",
      "840            841  2013      1    1       NaN            1500        NaN   \n",
      "841            842  2013      1    1       NaN             600        NaN   \n",
      "1777          1778  2013      1    2       NaN            1540        NaN   \n",
      "...            ...   ...    ...  ...       ...             ...        ...   \n",
      "336771      336772  2013      9   30       NaN            1455        NaN   \n",
      "336772      336773  2013      9   30       NaN            2200        NaN   \n",
      "336773      336774  2013      9   30       NaN            1210        NaN   \n",
      "336774      336775  2013      9   30       NaN            1159        NaN   \n",
      "336775      336776  2013      9   30       NaN             840        NaN   \n",
      "\n",
      "        arr_time  sched_arr_time  arr_delay carrier  flight tailnum origin  \\\n",
      "838          NaN            1815        NaN      EV    4308  N18120    EWR   \n",
      "839          NaN            2240        NaN      AA     791  N3EHAA    LGA   \n",
      "840          NaN            1825        NaN      AA    1925  N3EVAA    LGA   \n",
      "841          NaN             901        NaN      B6     125  N618JB    JFK   \n",
      "1777         NaN            1747        NaN      EV    4352  N10575    EWR   \n",
      "...          ...             ...        ...     ...     ...     ...    ...   \n",
      "336771       NaN            1634        NaN      9E    3393     NaN    JFK   \n",
      "336772       NaN            2312        NaN      9E    3525     NaN    LGA   \n",
      "336773       NaN            1330        NaN      MQ    3461  N535MQ    LGA   \n",
      "336774       NaN            1344        NaN      MQ    3572  N511MQ    LGA   \n",
      "336775       NaN            1020        NaN      MQ    3531  N839MQ    LGA   \n",
      "\n",
      "       dest  air_time  distance  hour  minute            time_hour  \n",
      "838     RDU       NaN       416    16      30  2013-01-01 16:00:00  \n",
      "839     DFW       NaN      1389    19      35  2013-01-01 19:00:00  \n",
      "840     MIA       NaN      1096    15       0  2013-01-01 15:00:00  \n",
      "841     FLL       NaN      1069     6       0  2013-01-01 06:00:00  \n",
      "1777    CVG       NaN       569    15      40  2013-01-02 15:00:00  \n",
      "...     ...       ...       ...   ...     ...                  ...  \n",
      "336771  DCA       NaN       213    14      55  2013-09-30 14:00:00  \n",
      "336772  SYR       NaN       198    22       0  2013-09-30 22:00:00  \n",
      "336773  BNA       NaN       764    12      10  2013-09-30 12:00:00  \n",
      "336774  CLE       NaN       419    11      59  2013-09-30 11:00:00  \n",
      "336775  RDU       NaN       431     8      40  2013-09-30 08:00:00  \n",
      "\n",
      "[8255 rows x 20 columns]\n"
     ]
    }
   ],
   "source": [
    "# 3. c-\n",
    "missing_dep_time_rows = flights[flights[\"dep_time\"].isnull()]\n",
    "print(\"Rows with missing dep_time:\\n\", missing_dep_time_rows)"
   ]
  },
  {
   "cell_type": "markdown",
   "metadata": {},
   "source": [
    "3. What happens to observations **with missing values in `arr_time`** when you filter by **`arr_time == 1800`**? Why? (Hint: compare `2000 == 1800`, `1800 == 1800`, and `NA == 1800`)."
   ]
  },
  {
   "cell_type": "code",
   "execution_count": 9,
   "metadata": {},
   "outputs": [
    {
     "name": "stdout",
     "output_type": "stream",
     "text": [
      "Original DataFrame:\n",
      "    arr_time\n",
      "0    1800.0\n",
      "1    2000.0\n",
      "2       NaN\n",
      "3    1800.0\n",
      "4       NaN\n",
      "\n",
      "Filtered DataFrame:\n",
      "    arr_time\n",
      "0    1800.0\n",
      "3    1800.0\n"
     ]
    }
   ],
   "source": [
    "# Solution\n",
    "import pandas as pd\n",
    "import numpy as np\n",
    "\n",
    "# Sample DataFrame with missing values\n",
    "data = {'arr_time': [1800, 2000, np.nan, 1800, np.nan]}\n",
    "df = pd.DataFrame(data)\n",
    "\n",
    "# Filter by arr_time == 1800\n",
    "filtered_df = df[df['arr_time'] == 1800]\n",
    "\n",
    "print(\"Original DataFrame:\\n\", df)\n",
    "print(\"\\nFiltered DataFrame:\\n\", filtered_df)\n"
   ]
  },
  {
   "cell_type": "markdown",
   "metadata": {},
   "source": [
    "4. What does `False & None` evaluate to? Why?"
   ]
  },
  {
   "cell_type": "code",
   "execution_count": null,
   "metadata": {},
   "outputs": [],
   "source": [
    "# Solution"
   ]
  },
  {
   "cell_type": "markdown",
   "metadata": {},
   "source": [
    "## Select columns"
   ]
  },
  {
   "cell_type": "markdown",
   "metadata": {},
   "source": [
    "5. Brainstorm as many distinct ways as possible to select `dep_time`, `dep_delay`, `arr_time`, and `arr_delay` from `flights`."
   ]
  },
  {
   "cell_type": "code",
   "execution_count": 10,
   "metadata": {},
   "outputs": [
    {
     "name": "stdout",
     "output_type": "stream",
     "text": [
      "        dep_time  dep_delay  arr_time  arr_delay\n",
      "0          517.0        2.0     830.0       11.0\n",
      "1          533.0        4.0     850.0       20.0\n",
      "2          542.0        2.0     923.0       33.0\n",
      "3          544.0       -1.0    1004.0      -18.0\n",
      "4          554.0       -6.0     812.0      -25.0\n",
      "...          ...        ...       ...        ...\n",
      "336771       NaN        NaN       NaN        NaN\n",
      "336772       NaN        NaN       NaN        NaN\n",
      "336773       NaN        NaN       NaN        NaN\n",
      "336774       NaN        NaN       NaN        NaN\n",
      "336775       NaN        NaN       NaN        NaN\n",
      "\n",
      "[336776 rows x 4 columns]\n"
     ]
    }
   ],
   "source": [
    "# Solution\n",
    "selected_data = flights[[\"dep_time\", \"dep_delay\", \"arr_time\", \"arr_delay\"]]\n",
    "print(selected_data)"
   ]
  },
  {
   "cell_type": "markdown",
   "metadata": {},
   "source": [
    "## Sort columns"
   ]
  },
  {
   "cell_type": "markdown",
   "metadata": {},
   "source": [
    "6. Sort flights to find the most delayed flights by arrival time. Hint: End your code with head(1) to only print that row."
   ]
  },
  {
   "cell_type": "code",
   "execution_count": 11,
   "metadata": {},
   "outputs": [
    {
     "name": "stdout",
     "output_type": "stream",
     "text": [
      "      Unnamed: 0  year  month  day  dep_time  sched_dep_time  dep_delay  \\\n",
      "7072        7073  2013      1    9     641.0             900     1301.0   \n",
      "\n",
      "      arr_time  sched_arr_time  arr_delay carrier  flight tailnum origin dest  \\\n",
      "7072    1242.0            1530     1272.0      HA      51  N384HA    JFK  HNL   \n",
      "\n",
      "      air_time  distance  hour  minute            time_hour  \n",
      "7072     640.0      4983     9       0  2013-01-09 09:00:00  \n"
     ]
    }
   ],
   "source": [
    "# Solution\n",
    "most_delayed_flight = flights.sort_values(by=\"arr_delay\", ascending=False).head(1)\n",
    "print(most_delayed_flight)\n"
   ]
  },
  {
   "cell_type": "markdown",
   "metadata": {},
   "source": [
    "7. Find the top 5 flights that left earliest relative to their scheduled departure. Only show the tail number, date and number of minutes early they departed at."
   ]
  },
  {
   "cell_type": "code",
   "execution_count": 15,
   "metadata": {},
   "outputs": [
    {
     "name": "stdout",
     "output_type": "stream",
     "text": [
      "       tailnum  dep_time  dep_delay\n",
      "89673   N592JB    2040.0      -43.0\n",
      "113633  N612DL    2022.0      -33.0\n",
      "64501   N825AS    1408.0      -32.0\n",
      "9619    N934DL    1900.0      -30.0\n",
      "24915   N208FR    1703.0      -27.0\n"
     ]
    }
   ],
   "source": [
    "# Solution\n",
    "earliest_flights = flights.sort_values(by=\"dep_delay\", ascending=True).head(5)[[\"tailnum\", \"dep_time\", \"dep_delay\"]]\n",
    "print(earliest_flights)\n"
   ]
  },
  {
   "cell_type": "code",
   "execution_count": null,
   "metadata": {},
   "outputs": [],
   "source": [
    "8. How could you sort all missing values to the start? "
   ]
  },
  {
   "cell_type": "code",
   "execution_count": 18,
   "metadata": {},
   "outputs": [
    {
     "name": "stdout",
     "output_type": "stream",
     "text": [
      "        Unnamed: 0  year  month  day  dep_time  sched_dep_time  dep_delay  \\\n",
      "336775      336776  2013      9   30    -999.0             840     -999.0   \n",
      "126054      126055  2013      2   17    -999.0            1500     -999.0   \n",
      "126055      126056  2013      2   17    -999.0             645     -999.0   \n",
      "126056      126057  2013      2   17    -999.0            1400     -999.0   \n",
      "126057      126058  2013      2   17    -999.0            1600     -999.0   \n",
      "...            ...   ...    ...  ...       ...             ...        ...   \n",
      "276812      276813  2013      7   28    2400.0            2059      181.0   \n",
      "276813      276814  2013      7   28    2400.0            2359        1.0   \n",
      "262457      262458  2013      7   13    2400.0            2245       75.0   \n",
      "266385      266386  2013      7   17    2400.0            2142      138.0   \n",
      "299009      299010  2013      8   20    2400.0            2359        1.0   \n",
      "\n",
      "        arr_time  sched_arr_time  arr_delay carrier  flight tailnum origin  \\\n",
      "336775    -999.0            1020     -999.0      MQ    3531  N839MQ    LGA   \n",
      "126054    -999.0            1653     -999.0      US    1753    -999    EWR   \n",
      "126055    -999.0             846     -999.0      US    1965    -999    EWR   \n",
      "126056    -999.0            1503     -999.0      US    2130    -999    LGA   \n",
      "126057    -999.0            1712     -999.0      US    2134    -999    LGA   \n",
      "...          ...             ...        ...     ...     ...     ...    ...   \n",
      "276812     247.0            2322      205.0      DL    1247  N945DL    LGA   \n",
      "276813     411.0             344       27.0      B6    1503  N503JB    JFK   \n",
      "262457     101.0            2359       62.0      B6    1816  N334JB    JFK   \n",
      "266385      54.0            2259      115.0      EV    3832  N22971    EWR   \n",
      "299009     354.0             350        4.0      B6     745  N708JB    JFK   \n",
      "\n",
      "       dest  air_time  distance  hour  minute            time_hour  \n",
      "336775  RDU    -999.0       431     8      40  2013-09-30 08:00:00  \n",
      "126054  CLT    -999.0       529    15       0  2013-02-17 15:00:00  \n",
      "126055  CLT    -999.0       529     6      45  2013-02-17 06:00:00  \n",
      "126056  BOS    -999.0       184    14       0  2013-02-17 14:00:00  \n",
      "126057  BOS    -999.0       184    16       0  2013-02-17 16:00:00  \n",
      "...     ...       ...       ...   ...     ...                  ...  \n",
      "276812  ATL     107.0       762    20      59  2013-07-28 20:00:00  \n",
      "276813  SJU     204.0      1598    23      59  2013-07-28 23:00:00  \n",
      "262457  SYR      40.0       209    22      45  2013-07-13 22:00:00  \n",
      "266385  DCA      37.0       199    21      42  2013-07-17 21:00:00  \n",
      "299009  PSE     201.0      1617    23      59  2013-08-20 23:00:00  \n",
      "\n",
      "[336776 rows x 20 columns]\n"
     ]
    }
   ],
   "source": [
    "# Solution\n",
    "flights.replace(np.nan, -999, inplace=True)\n",
    "\n",
    "# Sort by missing values\n",
    "flights_with_missing_first = flights.sort_values(by=\"dep_time\", na_position=\"first\")\n",
    "print(flights_with_missing_first)\n"
   ]
  },
  {
   "cell_type": "markdown",
   "metadata": {},
   "source": [
    "## Add new variables "
   ]
  },
  {
   "cell_type": "markdown",
   "metadata": {},
   "source": [
    "9. Currently `dep_time` and `arr_time` are convenient to look at, but hard to compute with because they’re not really continuous numbers. Convert them to number of minutes since midnight in new vars called `arr_time_min` and `dep_time_min`"
   ]
  },
  {
   "cell_type": "code",
   "execution_count": 19,
   "metadata": {},
   "outputs": [
    {
     "name": "stdout",
     "output_type": "stream",
     "text": [
      "        dep_time  dep_time_min  arr_time  arr_time_min\n",
      "0          517.0         317.0     830.0         510.0\n",
      "1          533.0         333.0     850.0         530.0\n",
      "2          542.0         342.0     923.0         563.0\n",
      "3          544.0         344.0    1004.0         604.0\n",
      "4          554.0         354.0     812.0         492.0\n",
      "...          ...           ...       ...           ...\n",
      "336771    -999.0        -599.0    -999.0        -599.0\n",
      "336772    -999.0        -599.0    -999.0        -599.0\n",
      "336773    -999.0        -599.0    -999.0        -599.0\n",
      "336774    -999.0        -599.0    -999.0        -599.0\n",
      "336775    -999.0        -599.0    -999.0        -599.0\n",
      "\n",
      "[336776 rows x 4 columns]\n"
     ]
    }
   ],
   "source": [
    "# Solution\n",
    "flights[\"dep_time_min\"] = flights[\"dep_time\"].apply(\n",
    "    lambda x: x // 100 * 60 + x % 100\n",
    ")\n",
    "flights[\"arr_time_min\"] = flights[\"arr_time\"].apply(\n",
    "    lambda x: x // 100 * 60 + x % 100\n",
    ")\n",
    "\n",
    "print(flights[[\"dep_time\", \"dep_time_min\", \"arr_time\", \"arr_time_min\"]])\n"
   ]
  },
  {
   "cell_type": "markdown",
   "metadata": {},
   "source": [
    "10. Make a plot to compare `air_time` with `arr_time_min` - `dep_time_min`"
   ]
  },
  {
   "cell_type": "code",
   "execution_count": 20,
   "metadata": {},
   "outputs": [
    {
     "data": {
      "image/png": "[encoded data removed]",
      "text/plain": [
       "<Figure size 640x480 with 1 Axes>"
      ]
     },
     "metadata": {},
     "output_type": "display_data"
    }
   ],
   "source": [
    "# Solution\n",
    "import matplotlib.pyplot as plt\n",
    "\n",
    "plt.scatter(flights[\"air_time\"], flights[\"arr_time_min\"] - flights[\"dep_time_min\"])\n",
    "plt.xlabel(\"air_time\")\n",
    "plt.ylabel(\"arr_time_min - dep_time_min\")\n",
    "plt.title(\"Comparison of air_time and calculated difference\")\n",
    "plt.show()\n"
   ]
  },
  {
   "cell_type": "markdown",
   "metadata": {},
   "source": [
    "11. We expect `air_time` and `arr_time_min` - `dep_time_min` to be the same, but they’re not. Why not?\n",
    "Identify a major data issue and subtle one."
   ]
  },
  {
   "cell_type": "code",
   "execution_count": null,
   "metadata": {},
   "outputs": [],
   "source": [
    "# Solution\n",
    "#major data: diferencias de zona horaria entre los aeropuertos de salida y de llegada.\n",
    "#subtle one: posibles errores de redondeo o inconsistencias en la recopilación de datos."
   ]
  },
  {
   "cell_type": "markdown",
   "metadata": {},
   "source": [
    "12. Implement your fix to the major probelm. Remake the plot from the previous question."
   ]
  },
  {
   "cell_type": "code",
   "execution_count": 21,
   "metadata": {},
   "outputs": [
    {
     "data": {
      "image/png": "[encoded data removed]",
      "text/plain": [
       "<Figure size 640x480 with 1 Axes>"
      ]
     },
     "metadata": {},
     "output_type": "display_data"
    }
   ],
   "source": [
    "# Solution\n",
    "flights[\"arr_time_min_adjusted\"] = flights[\"arr_time_min\"] - 180\n",
    "\n",
    "plt.scatter(flights[\"air_time\"], flights[\"arr_time_min_adjusted\"] - flights[\"dep_time_min\"])\n",
    "plt.xlabel(\"air_time\")\n",
    "plt.ylabel(\"arr_time_min_adjusted - dep_time_min\")\n",
    "plt.title(\"Comparison after adjusting for time zone difference\")\n",
    "plt.show()\n"
   ]
  },
  {
   "cell_type": "markdown",
   "metadata": {},
   "source": [
    "13. Find the 10 most delayed flights "
   ]
  },
  {
   "cell_type": "code",
   "execution_count": 22,
   "metadata": {},
   "outputs": [
    {
     "name": "stdout",
     "output_type": "stream",
     "text": [
      "        Unnamed: 0  year  month  day  dep_time  sched_dep_time  dep_delay  \\\n",
      "7072          7073  2013      1    9     641.0             900     1301.0   \n",
      "235778      235779  2013      6   15    1432.0            1935     1137.0   \n",
      "8239          8240  2013      1   10    1121.0            1635     1126.0   \n",
      "327043      327044  2013      9   20    1139.0            1845     1014.0   \n",
      "270376      270377  2013      7   22     845.0            1600     1005.0   \n",
      "173992      173993  2013      4   10    1100.0            1900      960.0   \n",
      "151974      151975  2013      3   17    2321.0             810      911.0   \n",
      "270987      270988  2013      7   22    2257.0             759      898.0   \n",
      "87238        87239  2013     12    5     756.0            1700      896.0   \n",
      "195711      195712  2013      5    3    1133.0            2055      878.0   \n",
      "\n",
      "        arr_time  sched_arr_time  arr_delay  ... origin  dest air_time  \\\n",
      "7072      1242.0            1530     1272.0  ...    JFK   HNL    640.0   \n",
      "235778    1607.0            2120     1127.0  ...    JFK   CMH     74.0   \n",
      "8239      1239.0            1810     1109.0  ...    EWR   ORD    111.0   \n",
      "327043    1457.0            2210     1007.0  ...    JFK   SFO    354.0   \n",
      "270376    1044.0            1815      989.0  ...    JFK   CVG     96.0   \n",
      "173992    1342.0            2211      931.0  ...    JFK   TPA    139.0   \n",
      "151974     135.0            1020      915.0  ...    LGA   MSP    167.0   \n",
      "270987     121.0            1026      895.0  ...    LGA   ATL    109.0   \n",
      "87238     1058.0            2020      878.0  ...    EWR   MIA    149.0   \n",
      "195711    1250.0            2215      875.0  ...    EWR   ORD    112.0   \n",
      "\n",
      "       distance hour  minute            time_hour  dep_time_min  arr_time_min  \\\n",
      "7072       4983    9       0  2013-01-09 09:00:00         401.0         762.0   \n",
      "235778      483   19      35  2013-06-15 19:00:00         872.0         967.0   \n",
      "8239        719   16      35  2013-01-10 16:00:00         681.0         759.0   \n",
      "327043     2586   18      45  2013-09-20 18:00:00         699.0         897.0   \n",
      "270376      589   16       0  2013-07-22 16:00:00         525.0         644.0   \n",
      "173992     1005   19       0  2013-04-10 19:00:00         660.0         822.0   \n",
      "151974     1020    8      10  2013-03-17 08:00:00        1401.0          95.0   \n",
      "270987      762    7      59  2013-07-22 07:00:00        1377.0          81.0   \n",
      "87238      1085   17       0  2013-12-05 17:00:00         476.0         658.0   \n",
      "195711      719   20      55  2013-05-03 20:00:00         693.0         770.0   \n",
      "\n",
      "       arr_time_min_adjusted  \n",
      "7072                   582.0  \n",
      "235778                 787.0  \n",
      "8239                   579.0  \n",
      "327043                 717.0  \n",
      "270376                 464.0  \n",
      "173992                 642.0  \n",
      "151974                 -85.0  \n",
      "270987                 -99.0  \n",
      "87238                  478.0  \n",
      "195711                 590.0  \n",
      "\n",
      "[10 rows x 23 columns]\n"
     ]
    }
   ],
   "source": [
    "# Solution\n",
    "most_delayed_flights = flights.sort_values(by=\"arr_delay\", ascending=False).head(10)\n",
    "print(most_delayed_flights)\n"
   ]
  },
  {
   "cell_type": "markdown",
   "metadata": {},
   "source": [
    "## Summarizing grouped data"
   ]
  },
  {
   "cell_type": "markdown",
   "metadata": {},
   "source": [
    "14. Calculate average delays by destination for flights originating in NYC. Create a variable which ranks destinations from worst to best, where 1 is the worst rank."
   ]
  },
  {
   "cell_type": "code",
   "execution_count": 23,
   "metadata": {},
   "outputs": [
    {
     "name": "stdout",
     "output_type": "stream",
     "text": [
      "Average arrival delay by destination for NYC flights:\n",
      "Series([], Name: arr_delay, dtype: float64)\n",
      "\n",
      "Destination delay rank (worst to best):\n",
      "Series([], Name: arr_delay, dtype: float64)\n"
     ]
    }
   ],
   "source": [
    "# Solution\n",
    "nyc_flights = flights[flights[\"origin\"] == \"NYC\"]\n",
    "\n",
    "avg_delay_by_dest = nyc_flights.groupby(\"dest\")[\"arr_delay\"].mean()\n",
    "\n",
    "delay_rank_by_dest = avg_delay_by_dest.rank(ascending=False)\n",
    "\n",
    "print(\"Average arrival delay by destination for NYC flights:\")\n",
    "print(avg_delay_by_dest)\n",
    "print(\"\\nDestination delay rank (worst to best):\")\n",
    "print(delay_rank_by_dest)"
   ]
  },
  {
   "cell_type": "markdown",
   "metadata": {},
   "source": [
    "15. Which plane (`tailnum`) has the most minutes of delays total?"
   ]
  },
  {
   "cell_type": "code",
   "execution_count": 24,
   "metadata": {},
   "outputs": [
    {
     "name": "stdout",
     "output_type": "stream",
     "text": [
      "Plane with the most total delay minutes: N179JB\n"
     ]
    }
   ],
   "source": [
    "# Solution\n",
    "total_delay_per_plane = flights.groupby(\"tailnum\")[\"arr_delay\"].sum()\n",
    "most_delayed_plane = total_delay_per_plane.idxmax()\n",
    "\n",
    "print(\"Plane with the most total delay minutes:\", most_delayed_plane)\n"
   ]
  },
  {
   "cell_type": "markdown",
   "metadata": {},
   "source": [
    "16. Which airlines only offer flights from New York to one other airport?"
   ]
  },
  {
   "cell_type": "code",
   "execution_count": 25,
   "metadata": {},
   "outputs": [
    {
     "name": "stdout",
     "output_type": "stream",
     "text": [
      "Airlines with flights only from NYC to one other airport: Index([], dtype='object', name='carrier')\n"
     ]
    }
   ],
   "source": [
    "# Solution\n",
    "unique_dest_count_per_airline = flights.groupby(\"carrier\")[\"dest\"].nunique()\n",
    "airlines_with_one_dest = unique_dest_count_per_airline[unique_dest_count_per_airline == 2].index\n",
    "\n",
    "print(\"Airlines with flights only from NYC to one other airport:\", airlines_with_one_dest)\n"
   ]
  },
  {
   "cell_type": "markdown",
   "metadata": {},
   "source": [
    "17. Calculate the median arrival delay by airline."
   ]
  },
  {
   "cell_type": "code",
   "execution_count": 29,
   "metadata": {},
   "outputs": [],
   "source": [
    "# Solution\n",
    "median_delay_by_airline = flights.groupby(\"carrier\")[\"arr_delay\"].median()\n"
   ]
  },
  {
   "cell_type": "markdown",
   "metadata": {},
   "source": [
    "18. ExpressJet has a median arrival delay of -1 minutes while US Airways has a median arrival delay of -6 minutes. Does this tell you that US Airways is a more reliable airline? Why or why not?\n"
   ]
  },
  {
   "cell_type": "code",
   "execution_count": 30,
   "metadata": {},
   "outputs": [],
   "source": [
    "# Solution\n",
    "# No, un retraso medio de -1 minuto para ExpressJet y -6 minutos para US Airways, no podemos decir que US Airways sea más confiable. La mediana es sensible a los valores atípicos y puede no reflejar retrasos típicos. "
   ]
  },
  {
   "cell_type": "markdown",
   "metadata": {},
   "source": [
    "19. Median arrival delay may not be the best metric for our needs. Brainstorm at least 4 additional ways to assess the typical delay characteristics of a group of flights."
   ]
  },
  {
   "cell_type": "code",
   "execution_count": 31,
   "metadata": {},
   "outputs": [],
   "source": [
    "# Solution\n",
    "#Retraso absoluto promedio: menos sensible a los valores atípicos que la mediana.\n",
    "#Porcentaje de llegadas a tiempo: muestra la proporción de vuelos que llegan dentro de un umbral establecido.\n",
    "#Rango intercuartil (IQR): captura la dispersión de los retrasos e identifica posibles valores atípicos.\n",
    "#Retraso percentil 90: muestra el retraso experimentado por el 90% de los vuelos, destacando los retrasos extremos."
   ]
  },
  {
   "cell_type": "markdown",
   "metadata": {},
   "source": [
    "20. Write a code which calculates your delay measures separately by airline. Do particular airlines perform poorly on multiple metrics?"
   ]
  },
  {
   "cell_type": "code",
   "execution_count": 32,
   "metadata": {},
   "outputs": [
    {
     "name": "stdout",
     "output_type": "stream",
     "text": [
      "\n",
      "Airline: UA\n",
      "\tAverage absolute delay: 39.30 minutes\n",
      "\tPercentage on-time arrivals: 62.12%\n",
      "\tInterquartile range: 30.00 minutes\n",
      "\t90th percentile delay: 42.00 minutes\n",
      "\n",
      "Airline: AA\n",
      "\tAverage absolute delay: 48.55 minutes\n",
      "\tPercentage on-time arrivals: 67.29%\n",
      "\tInterquartile range: 30.00 minutes\n",
      "\t90th percentile delay: 37.00 minutes\n",
      "\n",
      "Airline: B6\n",
      "\tAverage absolute delay: 35.94 minutes\n",
      "\tPercentage on-time arrivals: 56.79%\n",
      "\tInterquartile range: 32.00 minutes\n",
      "\t90th percentile delay: 55.00 minutes\n",
      "\n",
      "Airline: DL\n",
      "\tAverage absolute delay: 33.51 minutes\n",
      "\tPercentage on-time arrivals: 65.88%\n",
      "\tInterquartile range: 28.00 minutes\n",
      "\t90th percentile delay: 36.00 minutes\n",
      "\n",
      "Airline: EV\n",
      "\tAverage absolute delay: 85.25 minutes\n",
      "\tPercentage on-time arrivals: 54.80%\n",
      "\tInterquartile range: 39.00 minutes\n",
      "\t90th percentile delay: 74.00 minutes\n",
      "\n",
      "Airline: MQ\n",
      "\tAverage absolute delay: 74.78 minutes\n",
      "\tPercentage on-time arrivals: 55.70%\n",
      "\tInterquartile range: 31.00 minutes\n",
      "\t90th percentile delay: 54.00 minutes\n",
      "\n",
      "Airline: US\n",
      "\tAverage absolute delay: 53.00 minutes\n",
      "\tPercentage on-time arrivals: 64.21%\n",
      "\tInterquartile range: 24.00 minutes\n",
      "\t90th percentile delay: 30.00 minutes\n",
      "\n",
      "Airline: WN\n",
      "\tAverage absolute delay: 44.55 minutes\n",
      "\tPercentage on-time arrivals: 56.79%\n",
      "\tInterquartile range: 31.00 minutes\n",
      "\t90th percentile delay: 53.00 minutes\n",
      "\n",
      "Airline: VX\n",
      "\tAverage absolute delay: 36.82 minutes\n",
      "\tPercentage on-time arrivals: 66.18%\n",
      "\tInterquartile range: 30.75 minutes\n",
      "\t90th percentile delay: 39.00 minutes\n",
      "\n",
      "Airline: FL\n",
      "\tAverage absolute delay: 54.23 minutes\n",
      "\tPercentage on-time arrivals: 41.87%\n",
      "\tInterquartile range: 32.00 minutes\n",
      "\t90th percentile delay: 68.00 minutes\n",
      "\n",
      "Airline: AS\n",
      "\tAverage absolute delay: 35.05 minutes\n",
      "\tPercentage on-time arrivals: 73.53%\n",
      "\tInterquartile range: 34.75 minutes\n",
      "\t90th percentile delay: 27.00 minutes\n",
      "\n",
      "Airline: 9E\n",
      "\tAverage absolute delay: 91.62 minutes\n",
      "\tPercentage on-time arrivals: 64.05%\n",
      "\tInterquartile range: 37.00 minutes\n",
      "\t90th percentile delay: 60.00 minutes\n",
      "\n",
      "Airline: F9\n",
      "\tAverage absolute delay: 38.50 minutes\n",
      "\tPercentage on-time arrivals: 42.77%\n",
      "\tInterquartile range: 39.00 minutes\n",
      "\t90th percentile delay: 75.60 minutes\n",
      "\n",
      "Airline: HA\n",
      "\tAverage absolute delay: 26.79 minutes\n",
      "\tPercentage on-time arrivals: 71.64%\n",
      "\tInterquartile range: 30.50 minutes\n",
      "\t90th percentile delay: 19.90 minutes\n",
      "\n",
      "Airline: YV\n",
      "\tAverage absolute delay: 124.52 minutes\n",
      "\tPercentage on-time arrivals: 57.07%\n",
      "\tInterquartile range: 40.00 minutes\n",
      "\t90th percentile delay: 71.00 minutes\n",
      "\n",
      "Airline: OO\n",
      "\tAverage absolute delay: 120.72 minutes\n",
      "\tPercentage on-time arrivals: 68.75%\n",
      "\tInterquartile range: 22.25 minutes\n",
      "\t90th percentile delay: 66.90 minutes\n"
     ]
    }
   ],
   "source": [
    "# Solution\n",
    "def analyze_airline_delays(flights):\n",
    "    for airline in flights[\"carrier\"].unique():\n",
    "        airline_data = flights[flights[\"carrier\"] == airline]\n",
    "        # Calculate various delay metrics\n",
    "        avg_abs_delay = airline_data[\"arr_delay\"].abs().mean()\n",
    "        on_time_pct = (airline_data[\"arr_delay\"] <= 0).mean() * 100\n",
    "        delay_iqr = airline_data[\"arr_delay\"].quantile(0.75) - airline_data[\"arr_delay\"].quantile(0.25)\n",
    "        delay_90th_pct = airline_data[\"arr_delay\"].quantile(0.9)\n",
    "        # Print results for current airline\n",
    "        print(f\"\\nAirline: {airline}\")\n",
    "        print(f\"\\tAverage absolute delay: {avg_abs_delay:.2f} minutes\")\n",
    "        print(f\"\\tPercentage on-time arrivals: {on_time_pct:.2f}%\")\n",
    "        print(f\"\\tInterquartile range: {delay_iqr:.2f} minutes\")\n",
    "        print(f\"\\t90th percentile delay: {delay_90th_pct:.2f} minutes\")\n",
    "\n",
    "analyze_airline_delays(flights.copy())"
   ]
  },
  {
   "cell_type": "markdown",
   "metadata": {},
   "source": []
  }
 ],
 "metadata": {
  "hide_input": false,
  "kernelspec": {
   "display_name": "Python 3 (ipykernel)",
   "language": "python",
   "name": "python3"
  },
  "language_info": {
   "codemirror_mode": {
    "name": "ipython",
    "version": 3
   },
   "file_extension": ".py",
   "mimetype": "text/x-python",
   "name": "python",
   "nbconvert_exporter": "python",
   "pygments_lexer": "ipython3",
   "version": "3.10.9"
  },
  "toc": {
   "base_numbering": 1,
   "nav_menu": {},
   "number_sections": true,
   "sideBar": true,
   "skip_h1_title": false,
   "title_cell": "Table of Contents",
   "title_sidebar": "Contents",
   "toc_cell": false,
   "toc_position": {},
   "toc_section_display": true,
   "toc_window_display": false
  }
 },
 "nbformat": 4,
 "nbformat_minor": 4
}
