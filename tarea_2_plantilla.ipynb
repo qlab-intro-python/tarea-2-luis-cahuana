{
 "cells": [
  {
   "cell_type": "markdown",
   "metadata": {},
   "source": [
    "# **Tarea Nº 2**"
   ]
  },
  {
   "cell_type": "markdown",
   "metadata": {},
   "source": [
    "Curso:          Fundamentos de Programación en Python para Macroeconomía y Finanzas     \n",
    "Profesor:       Victor Fuentes Campos     "
   ]
  },
  {
   "cell_type": "markdown",
   "metadata": {},
   "source": [
    "- Fecha y hora de entrega: Sábado 6 de enero, 11:59pm\n",
    "- Agregue los nombres de las personas con las que discutió esta tarea: ____ Armando Paredes ______\n",
    "- Envíe su tarea haciendo el `push` de su código a su repo en GitHub Classroom: "
   ]
  },
  {
   "cell_type": "markdown",
   "metadata": {},
   "source": [
    "## Filtering rows"
   ]
  },
  {
   "cell_type": "markdown",
   "metadata": {},
   "source": [
    "1. Import the `flights.csv` dataset. Find all flights that:\n",
    "\n",
    "    a. Had an arrival delay of three or more hours\n",
    "\n",
    "    b. Flew to Houston (IAH or HOU)\n",
    "\n",
    "    c. Were operated by United, American, or Southwest\n",
    "\n",
    "    d. Departed in spring (March, April, and June)\n",
    "\n",
    "    e. Arrived more than two hours late, but didn’t leave late\n",
    "    \n",
    "    f. Were delayed by at least an hour, but made up over 30 minutes in flight 7. Departed between midnight and 5am (inclusive)"
   ]
  },
  {
   "cell_type": "code",
   "execution_count": 1,
   "metadata": {},
   "outputs": [],
   "source": [
    "# Solution\n",
    "import pandas as pd\n",
    "\n",
    "# 1. Import the flights.csv dataset\n",
    "flights = pd.read_csv(\"flights.csv\")\n",
    "\n",
    "# a. Find flights with arrival delay of 3 or more hours\n",
    "delayed_flights = flights[flights[\"arr_delay\"] >= 3]\n",
    "\n",
    "# b. Find flights that flew to Houston (IAH or HOU)\n",
    "houston_flights = flights[flights[\"dest\"].isin([\"IAH\", \"HOU\"])]\n",
    "\n",
    "# c. Find flights operated by United, American, or Southwest\n",
    "airlines = [\"UA\", \"AA\", \"WN\"]\n",
    "specific_airlines_flights = flights[flights[\"carrier\"].isin(airlines)]\n",
    "\n",
    "# d. Find flights that departed in spring (March, April, and June)\n",
    "spring_months = [\"Mar\", \"Apr\", \"Jun\"]\n",
    "spring_flights = flights[flights[\"month\"].isin(spring_months)]\n",
    "\n",
    "# e. Find flights that arrived more than 2 hours late, but didn't leave late\n",
    "late_arrival_not_departure = flights[(flights[\"arr_delay\"] > 120) & (flights[\"dep_delay\"] <= 0)]\n",
    "\n",
    "# f. Find flights delayed by at least an hour, but made up over 30 minutes in flight\n",
    "delayed_made_up_time = flights[(flights[\"dep_delay\"] >= 60) & (flights[\"arr_delay\"] < flights[\"dep_delay\"] - 30)]\n",
    "\n",
    "# g. Find flights that departed between midnight and 5am (inclusive)\n",
    "midnight_to_5am_flights = flights[(flights[\"dep_time\"] >= 0) & (flights[\"dep_time\"] <= 500)]\n",
    "\n"
   ]
  },
  {
   "cell_type": "code",
   "execution_count": 2,
   "metadata": {},
   "outputs": [
    {
     "name": "stdout",
     "output_type": "stream",
     "text": [
      "        Unnamed: 0  year  month  day  dep_time  sched_dep_time  dep_delay  \\\n",
      "0                1  2013      1    1     517.0             515        2.0   \n",
      "1                2  2013      1    1     533.0             529        4.0   \n",
      "2                3  2013      1    1     542.0             540        2.0   \n",
      "5                6  2013      1    1     554.0             558       -4.0   \n",
      "6                7  2013      1    1     555.0             600       -5.0   \n",
      "...            ...   ...    ...  ...       ...             ...        ...   \n",
      "336758      336759  2013      9   30    2203.0            2205       -2.0   \n",
      "336759      336760  2013      9   30    2207.0            2140       27.0   \n",
      "336760      336761  2013      9   30    2211.0            2059       72.0   \n",
      "336762      336763  2013      9   30    2233.0            2113       80.0   \n",
      "336763      336764  2013      9   30    2235.0            2001      154.0   \n",
      "\n",
      "        arr_time  sched_arr_time  arr_delay carrier  flight tailnum origin  \\\n",
      "0          830.0             819       11.0      UA    1545  N14228    EWR   \n",
      "1          850.0             830       20.0      UA    1714  N24211    LGA   \n",
      "2          923.0             850       33.0      AA    1141  N619AA    JFK   \n",
      "5          740.0             728       12.0      UA    1696  N39463    EWR   \n",
      "6          913.0             854       19.0      B6     507  N516JB    EWR   \n",
      "...          ...             ...        ...     ...     ...     ...    ...   \n",
      "336758    2339.0            2331        8.0      EV    5311  N722EV    LGA   \n",
      "336759    2257.0            2250        7.0      MQ    3660  N532MQ    LGA   \n",
      "336760    2339.0            2242       57.0      EV    4672  N12145    EWR   \n",
      "336762     112.0              30       42.0      UA     471  N578UA    EWR   \n",
      "336763      59.0            2249      130.0      B6    1083  N804JB    JFK   \n",
      "\n",
      "       dest  air_time  distance  hour  minute            time_hour  \n",
      "0       IAH     227.0      1400     5      15  2013-01-01 05:00:00  \n",
      "1       IAH     227.0      1416     5      29  2013-01-01 05:00:00  \n",
      "2       MIA     160.0      1089     5      40  2013-01-01 05:00:00  \n",
      "5       ORD     150.0       719     5      58  2013-01-01 05:00:00  \n",
      "6       FLL     158.0      1065     6       0  2013-01-01 06:00:00  \n",
      "...     ...       ...       ...   ...     ...                  ...  \n",
      "336758  BGR      61.0       378    22       5  2013-09-30 22:00:00  \n",
      "336759  BNA      97.0       764    21      40  2013-09-30 21:00:00  \n",
      "336760  STL     120.0       872    20      59  2013-09-30 20:00:00  \n",
      "336762  SFO     318.0      2565    21      13  2013-09-30 21:00:00  \n",
      "336763  MCO     123.0       944    20       1  2013-09-30 20:00:00  \n",
      "\n",
      "[123096 rows x 20 columns]\n"
     ]
    }
   ],
   "source": [
    "print(delayed_flights)"
   ]
  },
  {
   "cell_type": "code",
   "execution_count": 3,
   "metadata": {},
   "outputs": [
    {
     "name": "stdout",
     "output_type": "stream",
     "text": [
      "        Unnamed: 0  year  month  day  dep_time  sched_dep_time  dep_delay  \\\n",
      "0                1  2013      1    1     517.0             515        2.0   \n",
      "1                2  2013      1    1     533.0             529        4.0   \n",
      "32              33  2013      1    1     623.0             627       -4.0   \n",
      "81              82  2013      1    1     728.0             732       -4.0   \n",
      "89              90  2013      1    1     739.0             739        0.0   \n",
      "...            ...   ...    ...  ...       ...             ...        ...   \n",
      "336524      336525  2013      9   30    1729.0            1720        9.0   \n",
      "336527      336528  2013      9   30    1735.0            1715       20.0   \n",
      "336618      336619  2013      9   30    1859.0            1859        0.0   \n",
      "336694      336695  2013      9   30    2015.0            2015        0.0   \n",
      "336737      336738  2013      9   30    2105.0            2106       -1.0   \n",
      "\n",
      "        arr_time  sched_arr_time  arr_delay carrier  flight tailnum origin  \\\n",
      "0          830.0             819       11.0      UA    1545  N14228    EWR   \n",
      "1          850.0             830       20.0      UA    1714  N24211    LGA   \n",
      "32         933.0             932        1.0      UA     496  N459UA    LGA   \n",
      "81        1041.0            1038        3.0      UA     473  N488UA    LGA   \n",
      "89        1104.0            1038       26.0      UA    1479  N37408    EWR   \n",
      "...          ...             ...        ...     ...     ...     ...    ...   \n",
      "336524    2001.0            2010       -9.0      UA     652  N455UA    EWR   \n",
      "336527    2010.0            2005        5.0      WN    2067  N296WN    EWR   \n",
      "336618    2134.0            2159      -25.0      UA    1128  N14731    LGA   \n",
      "336694    2244.0            2307      -23.0      UA    1545  N17730    EWR   \n",
      "336737    2329.0            2354      -25.0      UA     475  N477UA    EWR   \n",
      "\n",
      "       dest  air_time  distance  hour  minute            time_hour  \n",
      "0       IAH     227.0      1400     5      15  2013-01-01 05:00:00  \n",
      "1       IAH     227.0      1416     5      29  2013-01-01 05:00:00  \n",
      "32      IAH     229.0      1416     6      27  2013-01-01 06:00:00  \n",
      "81      IAH     238.0      1416     7      32  2013-01-01 07:00:00  \n",
      "89      IAH     249.0      1400     7      39  2013-01-01 07:00:00  \n",
      "...     ...       ...       ...   ...     ...                  ...  \n",
      "336524  IAH     173.0      1400    17      20  2013-09-30 17:00:00  \n",
      "336527  HOU     188.0      1411    17      15  2013-09-30 17:00:00  \n",
      "336618  IAH     180.0      1416    18      59  2013-09-30 18:00:00  \n",
      "336694  IAH     174.0      1400    20      15  2013-09-30 20:00:00  \n",
      "336737  IAH     175.0      1400    21       6  2013-09-30 21:00:00  \n",
      "\n",
      "[9313 rows x 20 columns]\n"
     ]
    }
   ],
   "source": [
    "print(houston_flights)"
   ]
  },
  {
   "cell_type": "code",
   "execution_count": 4,
   "metadata": {},
   "outputs": [
    {
     "name": "stdout",
     "output_type": "stream",
     "text": [
      "        Unnamed: 0  year  month  day  dep_time  sched_dep_time  dep_delay  \\\n",
      "0                1  2013      1    1     517.0             515        2.0   \n",
      "1                2  2013      1    1     533.0             529        4.0   \n",
      "2                3  2013      1    1     542.0             540        2.0   \n",
      "5                6  2013      1    1     554.0             558       -4.0   \n",
      "9               10  2013      1    1     558.0             600       -2.0   \n",
      "...            ...   ...    ...  ...       ...             ...        ...   \n",
      "336736      336737  2013      9   30    2104.0            2030       34.0   \n",
      "336737      336738  2013      9   30    2105.0            2106       -1.0   \n",
      "336751      336752  2013      9   30    2140.0            2140        0.0   \n",
      "336755      336756  2013      9   30    2149.0            2156       -7.0   \n",
      "336762      336763  2013      9   30    2233.0            2113       80.0   \n",
      "\n",
      "        arr_time  sched_arr_time  arr_delay carrier  flight tailnum origin  \\\n",
      "0          830.0             819       11.0      UA    1545  N14228    EWR   \n",
      "1          850.0             830       20.0      UA    1714  N24211    LGA   \n",
      "2          923.0             850       33.0      AA    1141  N619AA    JFK   \n",
      "5          740.0             728       12.0      UA    1696  N39463    EWR   \n",
      "9          753.0             745        8.0      AA     301  N3ALAA    LGA   \n",
      "...          ...             ...        ...     ...     ...     ...    ...   \n",
      "336736    2205.0            2150       15.0      WN     382  N7741C    LGA   \n",
      "336737    2329.0            2354      -25.0      UA     475  N477UA    EWR   \n",
      "336751      10.0              40      -30.0      AA     185  N335AA    JFK   \n",
      "336755    2245.0            2308      -23.0      UA     523  N813UA    EWR   \n",
      "336762     112.0              30       42.0      UA     471  N578UA    EWR   \n",
      "\n",
      "       dest  air_time  distance  hour  minute            time_hour  \n",
      "0       IAH     227.0      1400     5      15  2013-01-01 05:00:00  \n",
      "1       IAH     227.0      1416     5      29  2013-01-01 05:00:00  \n",
      "2       MIA     160.0      1089     5      40  2013-01-01 05:00:00  \n",
      "5       ORD     150.0       719     5      58  2013-01-01 05:00:00  \n",
      "9       ORD     138.0       733     6       0  2013-01-01 06:00:00  \n",
      "...     ...       ...       ...   ...     ...                  ...  \n",
      "336736  MDW     105.0       725    20      30  2013-09-30 20:00:00  \n",
      "336737  IAH     175.0      1400    21       6  2013-09-30 21:00:00  \n",
      "336751  LAX     298.0      2475    21      40  2013-09-30 21:00:00  \n",
      "336755  BOS      37.0       200    21      56  2013-09-30 21:00:00  \n",
      "336762  SFO     318.0      2565    21      13  2013-09-30 21:00:00  \n",
      "\n",
      "[103669 rows x 20 columns]\n"
     ]
    }
   ],
   "source": [
    "print (specific_airlines_flights)"
   ]
  },
  {
   "cell_type": "code",
   "execution_count": 5,
   "metadata": {},
   "outputs": [
    {
     "name": "stdout",
     "output_type": "stream",
     "text": [
      "Empty DataFrame\n",
      "Columns: [Unnamed: 0, year, month, day, dep_time, sched_dep_time, dep_delay, arr_time, sched_arr_time, arr_delay, carrier, flight, tailnum, origin, dest, air_time, distance, hour, minute, time_hour]\n",
      "Index: []\n"
     ]
    }
   ],
   "source": [
    "print (spring_flights)"
   ]
  },
  {
   "cell_type": "markdown",
   "metadata": {},
   "source": [
    "2. a- How many flights have a missing dep_time? b- What other variables are missing? c- What might these rows represent?"
   ]
  },
  {
   "cell_type": "code",
   "execution_count": 6,
   "metadata": {},
   "outputs": [
    {
     "name": "stdout",
     "output_type": "stream",
     "text": [
      "Number of flights with missing dep_time: 8255\n",
      "Missing values in each column:\n",
      " Unnamed: 0           0\n",
      "year                 0\n",
      "month                0\n",
      "day                  0\n",
      "dep_time          8255\n",
      "sched_dep_time       0\n",
      "dep_delay         8255\n",
      "arr_time          8713\n",
      "sched_arr_time       0\n",
      "arr_delay         9430\n",
      "carrier              0\n",
      "flight               0\n",
      "tailnum           2512\n",
      "origin               0\n",
      "dest                 0\n",
      "air_time          9430\n",
      "distance             0\n",
      "hour                 0\n",
      "minute               0\n",
      "time_hour            0\n",
      "dtype: int64\n",
      "Rows with missing dep_time:\n",
      "         Unnamed: 0  year  month  day  dep_time  sched_dep_time  dep_delay  \\\n",
      "838            839  2013      1    1       NaN            1630        NaN   \n",
      "839            840  2013      1    1       NaN            1935        NaN   \n",
      "840            841  2013      1    1       NaN            1500        NaN   \n",
      "841            842  2013      1    1       NaN             600        NaN   \n",
      "1777          1778  2013      1    2       NaN            1540        NaN   \n",
      "...            ...   ...    ...  ...       ...             ...        ...   \n",
      "336771      336772  2013      9   30       NaN            1455        NaN   \n",
      "336772      336773  2013      9   30       NaN            2200        NaN   \n",
      "336773      336774  2013      9   30       NaN            1210        NaN   \n",
      "336774      336775  2013      9   30       NaN            1159        NaN   \n",
      "336775      336776  2013      9   30       NaN             840        NaN   \n",
      "\n",
      "        arr_time  sched_arr_time  arr_delay carrier  flight tailnum origin  \\\n",
      "838          NaN            1815        NaN      EV    4308  N18120    EWR   \n",
      "839          NaN            2240        NaN      AA     791  N3EHAA    LGA   \n",
      "840          NaN            1825        NaN      AA    1925  N3EVAA    LGA   \n",
      "841          NaN             901        NaN      B6     125  N618JB    JFK   \n",
      "1777         NaN            1747        NaN      EV    4352  N10575    EWR   \n",
      "...          ...             ...        ...     ...     ...     ...    ...   \n",
      "336771       NaN            1634        NaN      9E    3393     NaN    JFK   \n",
      "336772       NaN            2312        NaN      9E    3525     NaN    LGA   \n",
      "336773       NaN            1330        NaN      MQ    3461  N535MQ    LGA   \n",
      "336774       NaN            1344        NaN      MQ    3572  N511MQ    LGA   \n",
      "336775       NaN            1020        NaN      MQ    3531  N839MQ    LGA   \n",
      "\n",
      "       dest  air_time  distance  hour  minute            time_hour  \n",
      "838     RDU       NaN       416    16      30  2013-01-01 16:00:00  \n",
      "839     DFW       NaN      1389    19      35  2013-01-01 19:00:00  \n",
      "840     MIA       NaN      1096    15       0  2013-01-01 15:00:00  \n",
      "841     FLL       NaN      1069     6       0  2013-01-01 06:00:00  \n",
      "1777    CVG       NaN       569    15      40  2013-01-02 15:00:00  \n",
      "...     ...       ...       ...   ...     ...                  ...  \n",
      "336771  DCA       NaN       213    14      55  2013-09-30 14:00:00  \n",
      "336772  SYR       NaN       198    22       0  2013-09-30 22:00:00  \n",
      "336773  BNA       NaN       764    12      10  2013-09-30 12:00:00  \n",
      "336774  CLE       NaN       419    11      59  2013-09-30 11:00:00  \n",
      "336775  RDU       NaN       431     8      40  2013-09-30 08:00:00  \n",
      "\n",
      "[8255 rows x 20 columns]\n"
     ]
    }
   ],
   "source": [
    "# Solution\n",
    "\n",
    "# a- \n",
    "missing_dep_time_count = flights[\"dep_time\"].isnull().sum()\n",
    "print(\"Number of flights with missing dep_time:\", missing_dep_time_count)\n"
   ]
  },
  {
   "cell_type": "code",
   "execution_count": 7,
   "metadata": {},
   "outputs": [
    {
     "name": "stdout",
     "output_type": "stream",
     "text": [
      "Missing values in each column:\n",
      " Unnamed: 0           0\n",
      "year                 0\n",
      "month                0\n",
      "day                  0\n",
      "dep_time          8255\n",
      "sched_dep_time       0\n",
      "dep_delay         8255\n",
      "arr_time          8713\n",
      "sched_arr_time       0\n",
      "arr_delay         9430\n",
      "carrier              0\n",
      "flight               0\n",
      "tailnum           2512\n",
      "origin               0\n",
      "dest                 0\n",
      "air_time          9430\n",
      "distance             0\n",
      "hour                 0\n",
      "minute               0\n",
      "time_hour            0\n",
      "dtype: int64\n"
     ]
    }
   ],
   "source": [
    "# 2. b-\n",
    "missing_values = flights.isnull().sum()\n",
    "print(\"Missing values in each column:\\n\", missing_values)\n",
    "\n"
   ]
  },
  {
   "cell_type": "code",
   "execution_count": 8,
   "metadata": {},
   "outputs": [
    {
     "name": "stdout",
     "output_type": "stream",
     "text": [
      "Rows with missing dep_time:\n",
      "         Unnamed: 0  year  month  day  dep_time  sched_dep_time  dep_delay  \\\n",
      "838            839  2013      1    1       NaN            1630        NaN   \n",
      "839            840  2013      1    1       NaN            1935        NaN   \n",
      "840            841  2013      1    1       NaN            1500        NaN   \n",
      "841            842  2013      1    1       NaN             600        NaN   \n",
      "1777          1778  2013      1    2       NaN            1540        NaN   \n",
      "...            ...   ...    ...  ...       ...             ...        ...   \n",
      "336771      336772  2013      9   30       NaN            1455        NaN   \n",
      "336772      336773  2013      9   30       NaN            2200        NaN   \n",
      "336773      336774  2013      9   30       NaN            1210        NaN   \n",
      "336774      336775  2013      9   30       NaN            1159        NaN   \n",
      "336775      336776  2013      9   30       NaN             840        NaN   \n",
      "\n",
      "        arr_time  sched_arr_time  arr_delay carrier  flight tailnum origin  \\\n",
      "838          NaN            1815        NaN      EV    4308  N18120    EWR   \n",
      "839          NaN            2240        NaN      AA     791  N3EHAA    LGA   \n",
      "840          NaN            1825        NaN      AA    1925  N3EVAA    LGA   \n",
      "841          NaN             901        NaN      B6     125  N618JB    JFK   \n",
      "1777         NaN            1747        NaN      EV    4352  N10575    EWR   \n",
      "...          ...             ...        ...     ...     ...     ...    ...   \n",
      "336771       NaN            1634        NaN      9E    3393     NaN    JFK   \n",
      "336772       NaN            2312        NaN      9E    3525     NaN    LGA   \n",
      "336773       NaN            1330        NaN      MQ    3461  N535MQ    LGA   \n",
      "336774       NaN            1344        NaN      MQ    3572  N511MQ    LGA   \n",
      "336775       NaN            1020        NaN      MQ    3531  N839MQ    LGA   \n",
      "\n",
      "       dest  air_time  distance  hour  minute            time_hour  \n",
      "838     RDU       NaN       416    16      30  2013-01-01 16:00:00  \n",
      "839     DFW       NaN      1389    19      35  2013-01-01 19:00:00  \n",
      "840     MIA       NaN      1096    15       0  2013-01-01 15:00:00  \n",
      "841     FLL       NaN      1069     6       0  2013-01-01 06:00:00  \n",
      "1777    CVG       NaN       569    15      40  2013-01-02 15:00:00  \n",
      "...     ...       ...       ...   ...     ...                  ...  \n",
      "336771  DCA       NaN       213    14      55  2013-09-30 14:00:00  \n",
      "336772  SYR       NaN       198    22       0  2013-09-30 22:00:00  \n",
      "336773  BNA       NaN       764    12      10  2013-09-30 12:00:00  \n",
      "336774  CLE       NaN       419    11      59  2013-09-30 11:00:00  \n",
      "336775  RDU       NaN       431     8      40  2013-09-30 08:00:00  \n",
      "\n",
      "[8255 rows x 20 columns]\n"
     ]
    }
   ],
   "source": [
    "# 3. c-\n",
    "missing_dep_time_rows = flights[flights[\"dep_time\"].isnull()]\n",
    "print(\"Rows with missing dep_time:\\n\", missing_dep_time_rows)"
   ]
  },
  {
   "cell_type": "markdown",
   "metadata": {},
   "source": [
    "3. What happens to observations **with missing values in `arr_time`** when you filter by **`arr_time == 1800`**? Why? (Hint: compare `2000 == 1800`, `1800 == 1800`, and `NA == 1800`)."
   ]
  },
  {
   "cell_type": "code",
   "execution_count": null,
   "metadata": {},
   "outputs": [],
   "source": [
    "# Solution"
   ]
  },
  {
   "cell_type": "markdown",
   "metadata": {},
   "source": [
    "4. What does `False & None` evaluate to? Why?"
   ]
  },
  {
   "cell_type": "code",
   "execution_count": null,
   "metadata": {},
   "outputs": [],
   "source": [
    "# Solution"
   ]
  },
  {
   "cell_type": "markdown",
   "metadata": {},
   "source": [
    "## Select columns"
   ]
  },
  {
   "cell_type": "markdown",
   "metadata": {},
   "source": [
    "5. Brainstorm as many distinct ways as possible to select `dep_time`, `dep_delay`, `arr_time`, and `arr_delay` from `flights`."
   ]
  },
  {
   "cell_type": "code",
   "execution_count": null,
   "metadata": {},
   "outputs": [],
   "source": [
    "# Solution"
   ]
  },
  {
   "cell_type": "markdown",
   "metadata": {},
   "source": [
    "## Sort columns"
   ]
  },
  {
   "cell_type": "markdown",
   "metadata": {},
   "source": [
    "6. Sort flights to find the most delayed flights by arrival time. Hint: End your code with head(1) to only print that row."
   ]
  },
  {
   "cell_type": "code",
   "execution_count": null,
   "metadata": {},
   "outputs": [],
   "source": [
    "# Solution"
   ]
  },
  {
   "cell_type": "markdown",
   "metadata": {},
   "source": [
    "7. Find the top 5 flights that left earliest relative to their scheduled departure. Only show the tail number, date and number of minutes early they departed at."
   ]
  },
  {
   "cell_type": "code",
   "execution_count": null,
   "metadata": {},
   "outputs": [],
   "source": [
    "# Solution"
   ]
  },
  {
   "cell_type": "code",
   "execution_count": null,
   "metadata": {},
   "outputs": [],
   "source": [
    "8. How could you sort all missing values to the start? "
   ]
  },
  {
   "cell_type": "code",
   "execution_count": null,
   "metadata": {},
   "outputs": [],
   "source": [
    "# Solution"
   ]
  },
  {
   "cell_type": "markdown",
   "metadata": {},
   "source": [
    "## Add new variables "
   ]
  },
  {
   "cell_type": "markdown",
   "metadata": {},
   "source": [
    "9. Currently `dep_time` and `arr_time` are convenient to look at, but hard to compute with because they’re not really continuous numbers. Convert them to number of minutes since midnight in new vars called `arr_time_min` and `dep_time_min`"
   ]
  },
  {
   "cell_type": "code",
   "execution_count": null,
   "metadata": {},
   "outputs": [],
   "source": [
    "# Solution"
   ]
  },
  {
   "cell_type": "markdown",
   "metadata": {},
   "source": [
    "10. Make a plot to compare `air_time` with `arr_time_min` - `dep_time_min`"
   ]
  },
  {
   "cell_type": "code",
   "execution_count": null,
   "metadata": {},
   "outputs": [],
   "source": [
    "# Solution"
   ]
  },
  {
   "cell_type": "markdown",
   "metadata": {},
   "source": [
    "11. We expect `air_time` and `arr_time_min` - `dep_time_min` to be the same, but they’re not. Why not?\n",
    "Identify a major data issue and subtle one."
   ]
  },
  {
   "cell_type": "code",
   "execution_count": null,
   "metadata": {},
   "outputs": [],
   "source": [
    "# Solution"
   ]
  },
  {
   "cell_type": "markdown",
   "metadata": {},
   "source": [
    "12. Implement your fix to the major probelm. Remake the plot from the previous question."
   ]
  },
  {
   "cell_type": "code",
   "execution_count": null,
   "metadata": {},
   "outputs": [],
   "source": [
    "# Solution"
   ]
  },
  {
   "cell_type": "markdown",
   "metadata": {},
   "source": [
    "13. Find the 10 most delayed flights "
   ]
  },
  {
   "cell_type": "code",
   "execution_count": null,
   "metadata": {},
   "outputs": [],
   "source": [
    "# Solution"
   ]
  },
  {
   "cell_type": "markdown",
   "metadata": {},
   "source": [
    "## Summarizing grouped data"
   ]
  },
  {
   "cell_type": "markdown",
   "metadata": {},
   "source": [
    "14. Calculate average delays by destination for flights originating in NYC. Create a variable which ranks destinations from worst to best, where 1 is the worst rank."
   ]
  },
  {
   "cell_type": "code",
   "execution_count": null,
   "metadata": {},
   "outputs": [],
   "source": [
    "# Solution"
   ]
  },
  {
   "cell_type": "markdown",
   "metadata": {},
   "source": [
    "15. Which plane (`tailnum`) has the most minutes of delays total?"
   ]
  },
  {
   "cell_type": "code",
   "execution_count": null,
   "metadata": {},
   "outputs": [],
   "source": [
    "# Solution"
   ]
  },
  {
   "cell_type": "markdown",
   "metadata": {},
   "source": [
    "16. Which airlines only offer flights from New York to one other airport?"
   ]
  },
  {
   "cell_type": "code",
   "execution_count": null,
   "metadata": {},
   "outputs": [],
   "source": [
    "# Solution"
   ]
  },
  {
   "cell_type": "markdown",
   "metadata": {},
   "source": [
    "17. Calculate the median arrival delay by airline."
   ]
  },
  {
   "cell_type": "code",
   "execution_count": null,
   "metadata": {},
   "outputs": [],
   "source": [
    "# Solution"
   ]
  },
  {
   "cell_type": "markdown",
   "metadata": {},
   "source": [
    "18. ExpressJet has a median arrival delay of -1 minutes while US Airways has a median arrival delay of -6 minutes. Does this tell you that US Airways is a more reliable airline? Why or why not?\n"
   ]
  },
  {
   "cell_type": "code",
   "execution_count": null,
   "metadata": {},
   "outputs": [],
   "source": [
    "# Solution"
   ]
  },
  {
   "cell_type": "markdown",
   "metadata": {},
   "source": [
    "19. Median arrival delay may not be the best metric for our needs. Brainstorm at least 4 additional ways to assess the typical delay characteristics of a group of flights."
   ]
  },
  {
   "cell_type": "code",
   "execution_count": null,
   "metadata": {},
   "outputs": [],
   "source": [
    "# Solution"
   ]
  },
  {
   "cell_type": "markdown",
   "metadata": {},
   "source": [
    "20. Write a code which calculates your delay measures separately by airline. Do particular airlines perform poorly on multiple metrics?"
   ]
  },
  {
   "cell_type": "code",
   "execution_count": null,
   "metadata": {},
   "outputs": [],
   "source": [
    "# Solution"
   ]
  },
  {
   "cell_type": "markdown",
   "metadata": {},
   "source": []
  }
 ],
 "metadata": {
  "hide_input": false,
  "kernelspec": {
   "display_name": "Python 3 (ipykernel)",
   "language": "python",
   "name": "python3"
  },
  "language_info": {
   "codemirror_mode": {
    "name": "ipython",
    "version": 3
   },
   "file_extension": ".py",
   "mimetype": "text/x-python",
   "name": "python",
   "nbconvert_exporter": "python",
   "pygments_lexer": "ipython3",
   "version": "3.10.9"
  },
  "toc": {
   "base_numbering": 1,
   "nav_menu": {},
   "number_sections": true,
   "sideBar": true,
   "skip_h1_title": false,
   "title_cell": "Table of Contents",
   "title_sidebar": "Contents",
   "toc_cell": false,
   "toc_position": {},
   "toc_section_display": true,
   "toc_window_display": false
  }
 },
 "nbformat": 4,
 "nbformat_minor": 4
}
